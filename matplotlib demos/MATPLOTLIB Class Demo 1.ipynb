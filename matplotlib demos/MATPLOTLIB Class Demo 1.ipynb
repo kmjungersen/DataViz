{
 "cells": [
  {
   "cell_type": "markdown",
   "metadata": {},
   "source": [
    "#### ISM5935 - Fundamentals of Data Visualization\n",
    "--------------------------\n",
    "# Class Demo:<br> <span style=\"color:#960018\">*MATPLOTLIB 1* </span>\n",
    "\n",
    "SOURCE: Portions of this tutorial have been drawn from\n",
    "* Matplotlib Documentation & Tutorials: (https://matplotlib.org/3.1.1/tutorials/index.html)\n",
    "* Python Course (© 2011 - 2019, Bernd Klein, Bodenseo; Design by Denise Mitchinson adapted for python-course.eu by Bernd Klein) (https://www.python-course.eu/matplotlib.php.) Refer to both for extensive instruction on using MATPLOTLIB"
   ]
  },
  {
   "cell_type": "markdown",
   "metadata": {},
   "source": [
    "## <span style=\"color:#960018\">PART 1: General Concepts</span>\n",
    "`matplotlib` is an extensive programming base that is incredibly powerful and confusing to new users. Neverteless, effective visualizations are possible if the user focuses on understanding the conceptual framework behind matplotlib and developping knowledge of a few important points.\n",
    "\n",
    "\"Plotting requires action on a range of levels, from the most general (e.g., 'contour this 2-D array') to the most specific (e.g., 'color this screen pixel red'). The purpose of a plotting package is to assist you in visualizing your data as easily as possible, with all the necessary control -- that is, by using relatively high-level commands most of the time, and still have the ability to use the low-level commands when needed.\"\n",
    "\n",
    "\"Therefore, everything in matplotlib is organized in a **hierarchy**. \n",
    "1. At the top of the hierarchy is the matplotlib \"state-machine environment\" which is provided by the `matplotlib.pyplot`          module. At this level, simple functions are used to add plot elements (lines, images, text, etc.) to the current axes in the    current figure.\n",
    "2. The next level down in the hierarchy is the first level of the object-oriented interface, in which pyplot is used only for a    few functions such as figure creation, and the user explicitly creates and keeps track of the figure and axes objects. At      this level, the user uses pyplot to create figures, and through those figures, one or more axes objects can be created.        These axes objects are then used for most plotting actions.\n",
    "3. For even more control -- which is essential for things like embedding matplotlib plots in GUI applications -- the pyplot        level may be dropped completely, leaving a purely object-oriented approach."
   ]
  },
  {
   "cell_type": "code",
   "execution_count": null,
   "metadata": {},
   "outputs": [],
   "source": [
    "import matplotlib.pyplot as plt\n",
    "import numpy as np\n",
    "#The following code allows us to execute multiple prints within a single cell\n",
    "#from IPython.core.interactiveshell import InteractiveShell\n",
    "#InteractiveShell.ast_node_interactivity = \"all\""
   ]
  },
  {
   "cell_type": "markdown",
   "metadata": {},
   "source": [
    " Here are a couple of visual overviews of a figure as we should see it from within matplotlib:\n",
    " \n",
    " <img src=\"obj hier 3.png\"\n",
    "     alt=\"missing data\" height = \"500\" width = \"500\"\n",
    "     align = \"left\" /><br><br>\n",
    " \n",
    " <img src=\"anatomy of figure.png\"\n",
    "     alt=\"missing data\" height = \"500\" width = \"500\"\n",
    "     align = \"left\" />"
   ]
  },
  {
   "cell_type": "markdown",
   "metadata": {},
   "source": [
    "**canvas** :\n",
    "\n",
    "\n",
    "**figure** :\n",
    "\n",
    "\n",
    "**axes** :\n",
    "  this is a class that contains most of the figure elements: `Axis`, `Tick`, `Line2D`, `Text`, `Polygon`, etc., and sets the coordinate system; \"axes\" is not the plural form of \"axis\", it actually denotes the plotting area, including all axis.\n",
    "  \n",
    "**axis** :\n",
    "  the x-dimension, y-dimension (*or z-dimension if you have a 3-dim visual*) of the visual with ticks, tick-labels, and axis label \n",
    "  \n",
    "   <img src=\"anatomy of figure2.png\"\n",
    "     alt=\"missing data\" height = \"500\" width = \"500\"\n",
    "     align = \"left\" />"
   ]
  },
  {
   "cell_type": "markdown",
   "metadata": {},
   "source": [
    "## <span style=\"color:#960018\">PART 2: Introduction to Pyplot</span>"
   ]
  },
  {
   "cell_type": "markdown",
   "metadata": {},
   "source": [
    "The easiest way to create a new figure is with pyplot:\n",
    "\n",
    "`pyplot` is a collection of command style functions. Each pyplot function makes some change to a figure:\n",
    "* create a figure, \n",
    "* create a plotting area in a figure, \n",
    "* plot some lines in a plotting area, \n",
    "* decorate (customize) the plot with labels\n",
    "\n",
    "In `matplotlib.pyplot` various states are preserved across function calls, so that it keeps track of things like the current figure and plotting area, and the plotting functions are directed to the current axes (please note that \"axes\" here and in most places in the documentation refers to the axes part of a figure and not the strict mathematical term for more than one axis)."
   ]
  },
  {
   "cell_type": "markdown",
   "metadata": {},
   "source": [
    "Some simple examples:"
   ]
  },
  {
   "cell_type": "code",
   "execution_count": null,
   "metadata": {},
   "outputs": [],
   "source": [
    "fig = plt.figure()  # This will produce an empty figure with no axes\n",
    "fig.suptitle('This is an empty figure with no axes')  # Lets add a title so we know something is there."
   ]
  },
  {
   "cell_type": "markdown",
   "metadata": {},
   "source": [
    "NOTE: `suptitle('text')` adds text to the top of the figure above all subplots (a \"super title\"). Use this function after all subplot commands. `suptitle('text',ypos)` puts the text at the vertical position given by *YPOS* (in relative units of the figure). Default is 0.96."
   ]
  },
  {
   "cell_type": "code",
   "execution_count": null,
   "metadata": {},
   "outputs": [],
   "source": [
    "#This produces a figure with a 2x2 grid of axes\n",
    "fig, ax_lst = plt.subplots(1, 2)\n",
    "fig.suptitle('This is a two-by-two grid of axes');"
   ]
  },
  {
   "cell_type": "markdown",
   "metadata": {},
   "source": [
    "(from Eric Gentry at Google Groups) \"If you end a notebook cell with a function, but don't assign the result to a variable, the notebook will display the result as the output of the cell.\n",
    "\n",
    "In the case above, we ended the cell with the function `fig.suptitle('This is a two-by-two grid of axes')`, which returns an object of type matplotlib.text.Text. Because we did not assign the function result to a variable, it dispalyed the result as the cell output (in addition to the figure).\n",
    "\n",
    "\"Usually it does not cause any trouble, but if you really want to suppress the output you can:\n",
    "* put a semi-colon at the end of the last line: `fig.suptitle('This is a two-by-two grid of axes')`;\"\n",
    "* assign the result of the function to a variable: `_ = fig.suptitle('This is a two-by-two grid of axes')`   (where `_` is a common name for a variable you don't want to use later)"
   ]
  },
  {
   "cell_type": "code",
   "execution_count": null,
   "metadata": {},
   "outputs": [],
   "source": [
    "plt.plot([1, 2, 3, 4], [1, 4, 9, 16]);"
   ]
  },
  {
   "cell_type": "markdown",
   "metadata": {},
   "source": [
    "Another example.  Here we will only pass one array of numbers to `plt.plot()`"
   ]
  },
  {
   "cell_type": "code",
   "execution_count": null,
   "metadata": {},
   "outputs": [],
   "source": [
    "plt.plot([1, 2, 3, 4])\n",
    "plt.ylabel('some numbers');"
   ]
  },
  {
   "cell_type": "markdown",
   "metadata": {},
   "source": [
    "NOTE: Why did the x-axis range from 0-3 and the y-axis from 1-4? If you provide a single list or array to the plot() command, matplotlib assumes it is a sequence of y values, and automatically generates the x values for you. Since python ranges start with 0, the default x vector has the same length as y but starts with 0. Hence the x data are [0,1,2,3]."
   ]
  },
  {
   "cell_type": "markdown",
   "metadata": {},
   "source": [
    "Here is an example with multiple plots on the same axes"
   ]
  },
  {
   "cell_type": "code",
   "execution_count": null,
   "metadata": {},
   "outputs": [],
   "source": [
    "#x = np.linspace(0, 2, 100) #numpy linspace returns an evenly spaced set of numbers over a specified interval.\n",
    "x = np.linspace(0,2,100)\n",
    "\n",
    "plt.plot(x, x, label='linear') #A plot's dimensions are always \"x by y\"\n",
    "plt.plot(x, x**2, label='quadratic')\n",
    "plt.plot(x, x**3, label='cubic')\n",
    "\n",
    "plt.xlabel('this is the x label')\n",
    "plt.ylabel('this is the y label')\n",
    "\n",
    "plt.title(\"This Is The Title\")\n",
    "\n",
    "plt.legend();\n"
   ]
  },
  {
   "cell_type": "code",
   "execution_count": null,
   "metadata": {},
   "outputs": [],
   "source": [
    "x = np.arange(-np.pi, np.pi, 0.01) #Numpy's arange command returns an evenly spaced set of values within a given interval.\n",
    "                                   #Values are generated within the half-open interval [start, stop) (in other words, \n",
    "                                   #the interval including start but excluding stop). \n",
    "                                   #For integer arguments the function is equivalent to the Python built-in range function, \n",
    "                                   #but returns an ndarray rather than a list.\n",
    "\n",
    "                                   # When using a non-integer step, such as 0.1, the results will often not be consistent. \n",
    "                                   # It is better to use numpy.linspace for these cases.\n",
    "\n",
    "fig = plt.figure()\n",
    "#fig.suptitle('This is a three-by-one grid of axes')\n",
    "\n",
    "ax1 = fig.add_subplot(311, title='This is the title of the first subplot (311)')\n",
    "ax1.plot(x, np.sin(x))\n",
    "\n",
    "ax2 = fig.add_subplot(312)\n",
    "ax2.set_title('This is the title of the second subplot (312)')\n",
    "ax2.plot(x, np.cos(x))\n",
    "\n",
    "ax3 = fig.add_subplot(313)\n",
    "ax3.set_title('This is the title of the third subplot(313)')\n",
    "ax3.plot(x, np.tan(x));\n",
    "#plt.tight_layout()"
   ]
  },
  {
   "cell_type": "markdown",
   "metadata": {},
   "source": [
    "## <span style=\"color:#960018\">PART 3: Formatting the style of the plot</span>\n",
    "For every x, y pair of arguments, there is an optional third argument which is the **format string** that indicates the color and line type of the plot. The default format string is 'b-', which is a solid blue line. \n",
    "\n",
    "To format the elements on the graph (lines, points, etc) you concatenate a color string with a line style string.\n",
    "\n",
    "<img src=\"colors parameter.png\"\n",
    "     alt=\"missing data\" height = \"500\" width = \"500\"\n",
    "     align = \"left\" />\n",
    "<img src=\"line style parameter.png\"\n",
    "     alt=\"missing data\" height = \"500\" width = \"500\"\n",
    "     align = \"left\" />\n",
    " <img src=\"marker parameter.png\"\n",
    "     alt=\"missing data\" height = \"500\" width = \"500\"\n",
    "     align = \"left\" />"
   ]
  },
  {
   "cell_type": "code",
   "execution_count": null,
   "metadata": {},
   "outputs": [],
   "source": [
    "plt.plot([1, 2, 3, 4], [1, 4, 9, 16], 'ro') #This plots the \"x\" values by the \"y\" values with red circles\n",
    "plt.axis([0, 6, 0, 20]);  #This sets the limits of the 'x'-axis and the 'y'axis"
   ]
  },
  {
   "cell_type": "code",
   "execution_count": null,
   "metadata": {},
   "outputs": [],
   "source": [
    "x = np.linspace(0, 2, 20) #linspace: returns evenly spaced numbers over a specified interval [start, stop, number of values].\n",
    "\n",
    "plt.plot(x, x, 'r--', label='linear')\n",
    "plt.plot(x, x**2, 'bs', label='quadratic')\n",
    "plt.plot(x, x**3, 'g^', label='cubic')\n",
    "\n",
    "plt.xlabel('this is the x label')\n",
    "plt.ylabel('this is the y label')\n",
    "\n",
    "plt.title(\"This Is The Title\")\n",
    "\n",
    "plt.legend();"
   ]
  },
  {
   "cell_type": "markdown",
   "metadata": {},
   "source": [
    "`matplotlib.pyplot.scatter(x, y, s=None, c=None, marker=None, cmap=None, norm=None, vmin=None, vmax=None, alpha=None, linewidths=None, verts=None, edgecolors=None, *, plotnonfinite=False, data=None)` returns a scatter plot of y vs x with varying marker size and/or color."
   ]
  },
  {
   "cell_type": "code",
   "execution_count": null,
   "metadata": {},
   "outputs": [],
   "source": [
    "data = {'a': np.arange(50),\n",
    "        'c': np.random.randint(0, 50, 50),\n",
    "        'd': np.random.randn(50)}\n",
    "data['b'] = data['a'] + 10 * np.random.randn(50)\n",
    "data['d'] = np.abs(data['d']) * 100\n",
    "\n",
    "plt.scatter('a', 'b', c='c', s='d', data=data) #'c' is the color of the marker; 's' is the size of the marker\n",
    "plt.xlabel('These are the \"a\" values')\n",
    "plt.ylabel('These are the \"b\" values');"
   ]
  },
  {
   "cell_type": "markdown",
   "metadata": {},
   "source": [
    "-----------------------\n",
    "## <span style=\"color:#960018\">PART 4: Multiple axes and figures</span>\n",
    "### <span style=\"color:#960018\">Subplots</span>\n",
    "The `matplotlib.pyplot.subplots` method provides a way to plot multiple plots on a single figure. Given the number of `rows` and `columns`, it returns a tuple (`fig`, `ax`), giving a single figure `fig` with an array of axes `ax`."
   ]
  },
  {
   "cell_type": "markdown",
   "metadata": {},
   "source": [
    "#### Function signature\n",
    "Here is the function for matplotlib.pyplot.subplots:\n",
    "\n",
    "``` \n",
    "    matplotlib.plt.subplots(nrows=1,\n",
    "                            ncols=1,\n",
    "                            sharex=False,\n",
    "                            sharey=false,\n",
    "                            squeeze=True,\n",
    "                            subplot_kw=None,\n",
    "                            gridspec_kw=None,\n",
    "                            **fig_kw)\n",
    "```\n",
    "\n",
    "#### Parameters\n",
    "Given below is the detail of each parameter to the `matplotlib.pyplot.subplots` method:\n",
    "\n",
    "* `nrows`, `ncols`: Number of rows and columns of the subplot grid. Both of these are optional with a default value of 1.\n",
    "* `sharex`, `sharey`: Specifies sharing of properties between axes. Possible values are *none, all, row, col* or a *boolean* with a default value of *False*.\n",
    "* `squeeze`: Boolean value specifying whether to squeeze out extra dimension from the returned axes array `ax`. The default value is *True*.\n",
    "* `subplot_kw`: Dict of keywords to be passed to the `add_subplot` call to add keywords to each subplot. The default value is *None*.\n",
    "* `gridspec_kw`: Dict of grid specifications passed to `GridSpec` constructor to place grids on each subplot. The default value is *None*.\n",
    "\n",
    "#### Return\n",
    "Here is an explanation of the tuple returned by the function:\n",
    "\n",
    "* `fig`: The `matplotlib.pyplot.figure` object to be used as a container for all the subplots.\n",
    "* `ax`: A single object of the `axes.Axes` object if there is only one plot, or an array of `axes.Axes` objects if there are multiple plots, as specified by the `nrows` and `ncols`."
   ]
  },
  {
   "cell_type": "markdown",
   "metadata": {},
   "source": [
    "An example:"
   ]
  },
  {
   "cell_type": "code",
   "execution_count": null,
   "metadata": {},
   "outputs": [],
   "source": [
    "def f(t):\n",
    "    return np.exp(-t) * np.cos(2*np.pi*t)\n",
    "\n",
    "t1 = np.arange(0.0, 5.0, 0.1)\n",
    "t2 = np.arange(0.0, 5.0, 0.02)\n",
    "\n",
    "plt.figure()\n",
    "plt.subplot(211)\n",
    "plt.plot(t1, f(t1), 'bo', t2, f(t2), 'k')\n",
    "\n",
    "plt.subplot(212)\n",
    "plt.plot(t2, np.cos(2*np.pi*t2), 'r--');"
   ]
  },
  {
   "cell_type": "markdown",
   "metadata": {},
   "source": [
    "In the example above, the `figure()` command is optional because figure(1) will be created by default, just as a subplot(111) will be created by default if you don't manually specify any axes. The `subplot()` command specifies *numrows, numcols, plot_number* where *plot_number* ranges from *1* to *numrows x numcols*. The commas in the subplot command are optional if *numrows x numcols<10*. So subplot(211) is identical to subplot(2, 1, 1).\n",
    "\n",
    "You can create an arbitrary number of subplots and axes. If you want to place an axes manually, i.e., not on a rectangular grid, use the `axes()` command, which allows you to specify the location as axes([left, bottom, width, height]) where all values are in fractional (0 to 1) coordinates. See Axes Demo for an example of placing axes manually and Basic Subplot Demo for an example with lots of subplots."
   ]
  },
  {
   "cell_type": "markdown",
   "metadata": {},
   "source": [
    "You can create multiple figures by using multiple `figure()` calls with an increasing figure number. Of course, each figure can contain as many axes and subplots as your heart desires.  Here is an example:"
   ]
  },
  {
   "cell_type": "code",
   "execution_count": null,
   "metadata": {},
   "outputs": [],
   "source": [
    "plt.figure(1)                # the first figure\n",
    "plt.subplot(211)             # the first subplot in the first figure\n",
    "plt.plot([1, 2, 3])\n",
    "plt.subplot(212)             # the second subplot in the first figure\n",
    "plt.plot([4, 5, 6])\n",
    "\n",
    "\n",
    "plt.figure(2)                # a second figure\n",
    "plt.plot([4, 5, 6])          # creates a subplot(111) by default\n",
    "\n",
    "plt.figure(1)                # figure 1 current; subplot(212) still current\n",
    "plt.subplot(211)             # make subplot(211) in figure1 current\n",
    "plt.title('Easy as 1, 2, 3'); # subplot 211 title"
   ]
  },
  {
   "cell_type": "markdown",
   "metadata": {},
   "source": [
    "## <span style=\"color:#960018\">PART 5: Working with text</span>\n",
    "The `text()` command can be used to add text in an arbitrary location, and the `xlabel()`, `ylabel()` and `title()` are used to add text in the indicated locations (see Text in Matplotlib Plots for a more detailed example)"
   ]
  },
  {
   "cell_type": "code",
   "execution_count": null,
   "metadata": {},
   "outputs": [],
   "source": [
    "mu, sigma = 100, 15\n",
    "x = mu + sigma * np.random.randn(10000)\n",
    "\n",
    "# the histogram of the data\n",
    "n, bins, patches = plt.hist(x, 50, density=1, facecolor='g', alpha=0.75)\n",
    "\n",
    "\n",
    "plt.xlabel('IQ', fontsize=14, color='red')\n",
    "plt.ylabel('Probability')\n",
    "#plt.title(r'$\\sigma_i=15$')\n",
    "plt.title('Intelligence Quotient (IQ)', fontsize= 16, color='red')\n",
    "plt.text(60, .025, r'$\\mu=100,\\ \\sigma=15$')\n",
    "plt.axis([40, 160, 0, 0.03])\n",
    "#plt.setp(patches[41], 'facecolor', 'r')\n",
    "plt.grid(True);"
   ]
  },
  {
   "cell_type": "markdown",
   "metadata": {},
   "source": [
    "### Annotating text\n",
    "The uses of the basic `text()` command above place text at an arbitrary position on the Axes. A common use for text is to annotate some feature of the plot, and the `annotate()` method provides helper functionality to make annotations easy. In an annotation, there are two points to consider: the location being annotated represented by the argument *xy* and the location of the text *xytext*. Both of these arguments are (x,y) tuples."
   ]
  },
  {
   "cell_type": "code",
   "execution_count": null,
   "metadata": {},
   "outputs": [],
   "source": [
    "ax = plt.subplot(111)\n",
    "\n",
    "t = np.arange(0.0, 5.0, 0.01)\n",
    "s = np.cos(2*np.pi*t)\n",
    "line, = plt.plot(t, s, lw=2)\n",
    "\n",
    "plt.annotate('local max', xy=(2, 1), xytext=(3, 1.5),\n",
    "             arrowprops=dict(facecolor='black', width=.5, shrink=0.05),\n",
    "             )\n",
    "\n",
    "plt.ylim(-2, 2)"
   ]
  },
  {
   "cell_type": "markdown",
   "metadata": {},
   "source": [
    "## <span style=\"color:#960018\">PART 6: Customizing Matplotlib with style sheets</span>\n",
    "**Tips for customizing the properties and default styles of Matplotlib.**"
   ]
  },
  {
   "cell_type": "markdown",
   "metadata": {},
   "source": [
    "#### <span style=\"color:#960018\">Using style sheets </span>\n",
    "The style package adds support for easy-to-switch plotting *\"styles\"* with the same parameters as a `matplotlib rc` file (which is read at startup to configure matplotlib).\n",
    "\n",
    "To list all available styles, do this:"
   ]
  },
  {
   "cell_type": "code",
   "execution_count": null,
   "metadata": {},
   "outputs": [],
   "source": [
    "print(plt.style.available)"
   ]
  },
  {
   "cell_type": "markdown",
   "metadata": {},
   "source": [
    "To use a particular style, just add: `plt.style.use('INSERT STYLE')`"
   ]
  },
  {
   "cell_type": "code",
   "execution_count": null,
   "metadata": {},
   "outputs": [],
   "source": [
    "mu, sigma = 100, 15\n",
    "x = mu + sigma * np.random.randn(10000)\n",
    "\n",
    "# the histogram of the data\n",
    "n, bins, patches = plt.hist(x, 50, density=1, facecolor='g', alpha=0.75)\n",
    "\n",
    "plt.style.use('ggplot')\n",
    "plt.xlabel('IQ', fontsize=14, color='red')\n",
    "plt.ylabel('Probability')\n",
    "#plt.title(r'$\\sigma_i=15$')\n",
    "plt.title('Intelligence Quotient (IQ)', fontsize= 16, color='red')\n",
    "plt.text(60, .025, r'$\\mu=100,\\ \\sigma=15$')\n",
    "plt.axis([40, 160, 0, 0.03])\n",
    "plt.grid(True);"
   ]
  },
  {
   "cell_type": "code",
   "execution_count": null,
   "metadata": {},
   "outputs": [],
   "source": [
    "mu, sigma = 100, 15\n",
    "x = mu + sigma * np.random.randn(10000)\n",
    "\n",
    "# the histogram of the data\n",
    "n, bins, patches = plt.hist(x, 50, density=1, alpha=0.75)\n",
    "\n",
    "plt.style.use('tableau-colorblind10')\n",
    "plt.xlabel('IQ', fontsize=14)\n",
    "plt.ylabel('Probability')\n",
    "#plt.title(r'$\\sigma_i=15$')\n",
    "plt.title('Intelligence Quotient (IQ)', fontsize= 16)\n",
    "plt.text(60, .025, r'$\\mu=100,\\ \\sigma=15$')\n",
    "plt.axis([40, 160, 0, 0.03])\n",
    "plt.grid(True);"
   ]
  }
 ],
 "metadata": {
  "kernelspec": {
   "display_name": "Python 3",
   "language": "python",
   "name": "python3"
  },
  "language_info": {
   "codemirror_mode": {
    "name": "ipython",
    "version": 3
   },
   "file_extension": ".py",
   "mimetype": "text/x-python",
   "name": "python",
   "nbconvert_exporter": "python",
   "pygments_lexer": "ipython3",
   "version": "3.7.4"
  }
 },
 "nbformat": 4,
 "nbformat_minor": 2
}
